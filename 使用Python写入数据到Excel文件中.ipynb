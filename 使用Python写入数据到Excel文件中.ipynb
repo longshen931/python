{
 "cells": [
  {
   "cell_type": "markdown",
   "metadata": {},
   "source": [
    "用xlwt来生成excel的，生成的后缀名为xls，在xlwt中生  \n",
    "成的xls文件最多能支持65536行数据。python XlsxWriter  \n",
    "模块创建aexcel表格，生成的文件后缀名为.xlsx，最大能  \n",
    "够支持1048576行数据，16384列数据。"
   ]
  },
  {
   "cell_type": "markdown",
   "metadata": {},
   "source": [
    "## 一维表格生成 "
   ]
  },
  {
   "cell_type": "code",
   "execution_count": 1,
   "metadata": {},
   "outputs": [],
   "source": [
    "import xlsxwriter\n",
    "import datetime\n",
    "import time"
   ]
  },
  {
   "cell_type": "code",
   "execution_count": 2,
   "metadata": {},
   "outputs": [],
   "source": [
    "startTime1 = time.time()\n",
    "startTime=datetime.datetime.now().strftime('%Y-%m-%d %H:%M:%S')"
   ]
  },
  {
   "cell_type": "code",
   "execution_count": 3,
   "metadata": {},
   "outputs": [
    {
     "data": {
      "text/plain": [
       "'2019-11-01 14:31:12'"
      ]
     },
     "execution_count": 3,
     "metadata": {},
     "output_type": "execute_result"
    }
   ],
   "source": [
    "startTime"
   ]
  },
  {
   "cell_type": "code",
   "execution_count": 6,
   "metadata": {},
   "outputs": [
    {
     "data": {
      "text/plain": [
       "0"
      ]
     },
     "execution_count": 6,
     "metadata": {},
     "output_type": "execute_result"
    }
   ],
   "source": [
    "workbook = xlsxwriter.Workbook('练习.xlsx')  #创建一个Excel文件\n",
    "worksheet = workbook.add_worksheet()   #创建一个sheet\n",
    "\n",
    "title = [U'名称',U'副标题']     #表格title\n",
    "worksheet.write_row('A1',title)                    #title 写入Excel"
   ]
  },
  {
   "cell_type": "code",
   "execution_count": 11,
   "metadata": {},
   "outputs": [],
   "source": [
    "for i in range(1,100):\n",
    "    num0 = str(i+1)\n",
    "    num = str(i)\n",
    "    #num=i\n",
    "    row = 'A' + num0\n",
    "    data = [u'学生'+num,num]\n",
    "    worksheet.write_row(row, data)\n",
    "    \n",
    "workbook.close()\n"
   ]
  },
  {
   "cell_type": "markdown",
   "metadata": {},
   "source": [
    "经典，以此类推，以后你也可以这样干"
   ]
  },
  {
   "cell_type": "code",
   "execution_count": 12,
   "metadata": {},
   "outputs": [],
   "source": [
    "endTime1 = time.time()\n",
    "endTime=datetime.datetime.now().strftime('%Y-%m-%d %H:%M:%S')#结束"
   ]
  },
  {
   "cell_type": "markdown",
   "metadata": {},
   "source": []
  },
  {
   "cell_type": "code",
   "execution_count": 14,
   "metadata": {},
   "outputs": [],
   "source": [
    "startTime=datetime.datetime.now()"
   ]
  },
  {
   "cell_type": "code",
   "execution_count": 15,
   "metadata": {},
   "outputs": [
    {
     "data": {
      "text/plain": [
       "datetime.datetime(2019, 11, 1, 14, 39, 41, 886250)"
      ]
     },
     "execution_count": 15,
     "metadata": {},
     "output_type": "execute_result"
    }
   ],
   "source": [
    "startTime"
   ]
  },
  {
   "cell_type": "code",
   "execution_count": 16,
   "metadata": {},
   "outputs": [
    {
     "data": {
      "text/plain": [
       "471.83588671684265"
      ]
     },
     "execution_count": 16,
     "metadata": {},
     "output_type": "execute_result"
    }
   ],
   "source": [
    "endTime1-startTime1"
   ]
  },
  {
   "cell_type": "markdown",
   "metadata": {},
   "source": [
    "读取、写入、追加写入Excel文件"
   ]
  },
  {
   "cell_type": "code",
   "execution_count": 18,
   "metadata": {},
   "outputs": [],
   "source": [
    "import xlrd #读\n",
    "import xlwt #写\n",
    "from xlutils.copy import copy #修改/追加写入"
   ]
  },
  {
   "cell_type": "markdown",
   "metadata": {},
   "source": [
    "xls写入"
   ]
  },
  {
   "cell_type": "code",
   "execution_count": 19,
   "metadata": {},
   "outputs": [],
   "source": [
    "def write_excel_xls(path, sheet_name, value):\n",
    "    index = len(value)  # 获取需要写入数据的行数\n",
    "    workbook = xlwt.Workbook()  # 新建一个工作簿\n",
    "    sheet = workbook.add_sheet(sheet_name)  # 在工作簿中新建一个表格\n",
    "    for i in range(0, index):\n",
    "        for j in range(0, len(value[i])):\n",
    "            sheet.write(i, j, value[i][j])  # 像表格中写入数据（对应的行和列）\n",
    "    workbook.save(path)  # 保存工作簿\n",
    "    print(\"xls格式表格写入数据成功！\")"
   ]
  },
  {
   "cell_type": "markdown",
   "metadata": {},
   "source": [
    "xls追加数据"
   ]
  },
  {
   "cell_type": "code",
   "execution_count": 20,
   "metadata": {},
   "outputs": [],
   "source": [
    "def write_excel_xls_append(path, value):\n",
    "    index = len(value)  # 获取需要写入数据的行数\n",
    "    workbook = xlrd.open_workbook(path)  # 打开工作簿\n",
    "    sheets = workbook.sheet_names()  # 获取工作簿中的所有表格\n",
    "    worksheet = workbook.sheet_by_name(sheets[0])  # 获取工作簿中所有表格中的的第一个表格\n",
    "    rows_old = worksheet.nrows  # 获取表格中已存在的数据的行数\n",
    "    new_workbook = copy(workbook)  # 将xlrd对象拷贝转化为xlwt对象\n",
    "    new_worksheet = new_workbook.get_sheet(0)  # 获取转化后工作簿中的第一个表格\n",
    "    for i in range(0, index):\n",
    "        for j in range(0, len(value[i])):\n",
    "            new_worksheet.write(i+rows_old, j, value[i][j])  # 追加写入数据，注意是从i+rows_old行开始写入\n",
    "    new_workbook.save(path)  # 保存工作簿\n",
    "    print(\"xls格式表格【追加】写入数据成功！\")"
   ]
  },
  {
   "cell_type": "markdown",
   "metadata": {},
   "source": [
    "读取数据"
   ]
  },
  {
   "cell_type": "code",
   "execution_count": 21,
   "metadata": {},
   "outputs": [],
   "source": [
    "def read_excel_xls(path):\n",
    "    workbook = xlrd.open_workbook(path)  # 打开工作簿\n",
    "    sheets = workbook.sheet_names()  # 获取工作簿中的所有表格\n",
    "    worksheet = workbook.sheet_by_name(sheets[0])  # 获取工作簿中所有表格中的的第一个表格\n",
    "    for i in range(0, worksheet.nrows):\n",
    "        for j in range(0, worksheet.ncols):\n",
    "            print(worksheet.cell_value(i, j), \"\\t\", end=\"\")  # 逐行逐列读取数据\n",
    "        print()"
   ]
  },
  {
   "cell_type": "markdown",
   "metadata": {},
   "source": [
    "测试"
   ]
  },
  {
   "cell_type": "code",
   "execution_count": 23,
   "metadata": {},
   "outputs": [],
   "source": [
    "book_name_xls = 'xls格式测试工作簿.xls'\n",
    " \n",
    "sheet_name_xls = 'xls格式测试表'\n",
    " \n",
    "value_title = [[\"姓名\", \"性别\", \"年龄\", \"城市\", \"职业\"],]\n",
    " \n",
    "value1 = [[\"张三\", \"男\", \"19\", \"杭州\", \"研发工程师\"],\n",
    "          [\"李四\", \"男\", \"22\", \"北京\", \"医生\"],\n",
    "          [\"王五\", \"女\", \"33\", \"珠海\", \"出租车司机\"],]\n",
    " \n",
    "value2 = [[\"Tom\", \"男\", \"21\", \"西安\", \"测试工程师\"],\n",
    "          [\"Jones\", \"女\", \"34\", \"上海\", \"产品经理\"],\n",
    "          [\"Cat\", \"女\", \"56\", \"上海\", \"教师\"],]"
   ]
  },
  {
   "cell_type": "code",
   "execution_count": 24,
   "metadata": {},
   "outputs": [
    {
     "name": "stdout",
     "output_type": "stream",
     "text": [
      "xls格式表格写入数据成功！\n"
     ]
    }
   ],
   "source": [
    "write_excel_xls(book_name_xls, sheet_name_xls, value_title)"
   ]
  },
  {
   "cell_type": "code",
   "execution_count": 25,
   "metadata": {},
   "outputs": [
    {
     "name": "stdout",
     "output_type": "stream",
     "text": [
      "xls格式表格【追加】写入数据成功！\n"
     ]
    }
   ],
   "source": [
    "write_excel_xls_append(book_name_xls, value1)"
   ]
  },
  {
   "cell_type": "code",
   "execution_count": 26,
   "metadata": {},
   "outputs": [
    {
     "name": "stdout",
     "output_type": "stream",
     "text": [
      "xls格式表格【追加】写入数据成功！\n"
     ]
    }
   ],
   "source": [
    "write_excel_xls_append(book_name_xls, value2)"
   ]
  },
  {
   "cell_type": "code",
   "execution_count": 27,
   "metadata": {},
   "outputs": [
    {
     "name": "stdout",
     "output_type": "stream",
     "text": [
      "姓名 \t性别 \t年龄 \t城市 \t职业 \t\n",
      "张三 \t男 \t19 \t杭州 \t研发工程师 \t\n",
      "李四 \t男 \t22 \t北京 \t医生 \t\n",
      "王五 \t女 \t33 \t珠海 \t出租车司机 \t\n",
      "Tom \t男 \t21 \t西安 \t测试工程师 \t\n",
      "Jones \t女 \t34 \t上海 \t产品经理 \t\n",
      "Cat \t女 \t56 \t上海 \t教师 \t\n"
     ]
    }
   ],
   "source": [
    "read_excel_xls(book_name_xls)"
   ]
  },
  {
   "cell_type": "markdown",
   "metadata": {},
   "source": [
    "操作xlsx格式的表格文件："
   ]
  },
  {
   "cell_type": "code",
   "execution_count": 28,
   "metadata": {},
   "outputs": [],
   "source": [
    "import openpyxl\n",
    " \n",
    " \n",
    "def write_excel_xlsx(path, sheet_name, value):\n",
    "    index = len(value)\n",
    "    workbook = openpyxl.Workbook()\n",
    "    sheet = workbook.active\n",
    "    sheet.title = sheet_name\n",
    "    for i in range(0, index):\n",
    "        for j in range(0, len(value[i])):\n",
    "            sheet.cell(row=i+1, column=j+1, value=str(value[i][j]))\n",
    "    workbook.save(path)\n",
    "    print(\"xlsx格式表格写入数据成功！\")\n",
    " \n",
    " \n",
    "def read_excel_xlsx(path, sheet_name):\n",
    "    workbook = openpyxl.load_workbook(path)\n",
    "    # sheet = wb.get_sheet_by_name(sheet_name)这种方式已经弃用，不建议使用\n",
    "    sheet = workbook[sheet_name]\n",
    "    for row in sheet.rows:\n",
    "        for cell in row:\n",
    "            print(cell.value, \"\\t\", end=\"\")\n",
    "        print()\n",
    " \n",
    " \n",
    "book_name_xlsx = 'xlsx格式测试工作簿.xlsx'\n",
    " \n",
    "sheet_name_xlsx = 'xlsx格式测试表'\n",
    " \n",
    "value3 = [[\"姓名\", \"性别\", \"年龄\", \"城市\", \"职业\"],\n",
    "          [\"111\", \"女\", \"66\", \"石家庄\", \"运维工程师\"],\n",
    "          [\"222\", \"男\", \"55\", \"南京\", \"饭店老板\"],\n",
    "          [\"333\", \"女\", \"27\", \"苏州\", \"保安\"],]"
   ]
  },
  {
   "cell_type": "code",
   "execution_count": 29,
   "metadata": {
    "scrolled": true
   },
   "outputs": [
    {
     "name": "stdout",
     "output_type": "stream",
     "text": [
      "xlsx格式表格写入数据成功！\n",
      "姓名 \t性别 \t年龄 \t城市 \t职业 \t\n",
      "111 \t女 \t66 \t石家庄 \t运维工程师 \t\n",
      "222 \t男 \t55 \t南京 \t饭店老板 \t\n",
      "333 \t女 \t27 \t苏州 \t保安 \t\n"
     ]
    }
   ],
   "source": [
    "write_excel_xlsx(book_name_xlsx, sheet_name_xlsx, value3)\n",
    "read_excel_xlsx(book_name_xlsx, sheet_name_xlsx)"
   ]
  },
  {
   "cell_type": "code",
   "execution_count": null,
   "metadata": {},
   "outputs": [],
   "source": []
  }
 ],
 "metadata": {
  "kernelspec": {
   "display_name": "Python 3",
   "language": "python",
   "name": "python3"
  },
  "language_info": {
   "codemirror_mode": {
    "name": "ipython",
    "version": 3
   },
   "file_extension": ".py",
   "mimetype": "text/x-python",
   "name": "python",
   "nbconvert_exporter": "python",
   "pygments_lexer": "ipython3",
   "version": "3.7.4"
  }
 },
 "nbformat": 4,
 "nbformat_minor": 2
}
